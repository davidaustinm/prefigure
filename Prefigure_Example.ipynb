{
  "nbformat": 4,
  "nbformat_minor": 0,
  "metadata": {
    "colab": {
      "provenance": [],
      "authorship_tag": "ABX9TyO+Np+7AyBeDhlLJyHw5lKS",
      "include_colab_link": true
    },
    "kernelspec": {
      "name": "python3",
      "display_name": "Python 3"
    },
    "language_info": {
      "name": "python"
    }
  },
  "cells": [
    {
      "cell_type": "markdown",
      "metadata": {
        "id": "view-in-github",
        "colab_type": "text"
      },
      "source": [
        "<a href=\"https://colab.research.google.com/github/justinb4003/prefigure-easy/blob/main/Prefigure_Example.ipynb\" target=\"_parent\"><img src=\"https://colab.research.google.com/assets/colab-badge.svg\" alt=\"Open In Colab\"/></a>"
      ]
    },
    {
      "cell_type": "code",
      "source": [
        "!apt install python3-louis libcairo2-dev pkg-config python3-dev npm\n",
        "!git clone https://github.com/davidaustinm/prefigure.git\n",
        "%cd prefigure"
      ],
      "metadata": {
        "id": "h7-ilNPNpfAq"
      },
      "execution_count": null,
      "outputs": []
    },
    {
      "cell_type": "markdown",
      "source": [],
      "metadata": {
        "id": "mG1YUGFwq3gh"
      }
    },
    {
      "cell_type": "code",
      "source": [
        "# Colab already loads in a numpy; we can skip reinstalling it\n",
        "!cat requirements.txt | grep -v '^numpy' | xargs pip install"
      ],
      "metadata": {
        "id": "bbc_xExYn7_8"
      },
      "execution_count": null,
      "outputs": []
    },
    {
      "cell_type": "code",
      "source": [
        "%cd js/\n",
        "!npm install\n",
        "%cd ../prefigure/"
      ],
      "metadata": {
        "id": "fEEdX2dxb-Kz"
      },
      "execution_count": null,
      "outputs": []
    },
    {
      "cell_type": "code",
      "source": [
        "!python parse.py ../samples/derivatives.xml"
      ],
      "metadata": {
        "id": "EiybaNI2dFNC"
      },
      "execution_count": null,
      "outputs": []
    }
  ]
}