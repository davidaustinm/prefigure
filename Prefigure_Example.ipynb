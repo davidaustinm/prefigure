{
  "nbformat": 4,
  "nbformat_minor": 0,
  "metadata": {
    "colab": {
      "provenance": [],
      "authorship_tag": "ABX9TyP2pnHG93rDZeA4rQiKfFdn",
      "include_colab_link": true
    },
    "kernelspec": {
      "name": "python3",
      "display_name": "Python 3"
    },
    "language_info": {
      "name": "python"
    }
  },
  "cells": [
    {
      "cell_type": "markdown",
      "metadata": {
        "id": "view-in-github",
        "colab_type": "text"
      },
      "source": [
        "<a href=\"https://colab.research.google.com/github/justinb4003/prefigure-easy/blob/main/Prefigure_Example.ipynb\" target=\"_parent\"><img src=\"https://colab.research.google.com/assets/colab-badge.svg\" alt=\"Open In Colab\"/></a>"
      ]
    },
    {
      "cell_type": "code",
      "execution_count": 1,
      "metadata": {
        "colab": {
          "base_uri": "https://localhost:8080/"
        },
        "id": "X1uJZg7PX8L3",
        "outputId": "df7ce51a-447b-4ff2-e5e7-4c30e7d4b407"
      },
      "outputs": [
        {
          "output_type": "stream",
          "name": "stdout",
          "text": [
            "Reading package lists... Done\n",
            "Building dependency tree... Done\n",
            "Reading state information... Done\n",
            "libcairo2-dev is already the newest version (1.16.0-5ubuntu2).\n",
            "pkg-config is already the newest version (0.29.2-1ubuntu3).\n",
            "npm is already the newest version (8.5.1~ds-1).\n",
            "python3-dev is already the newest version (3.10.6-1~22.04).\n",
            "python3-louis is already the newest version (3.20.0-2ubuntu0.2).\n",
            "The following packages were automatically installed and are no longer required:\n",
            "  libbz2-dev libpkgconf3 libreadline-dev\n",
            "Use 'apt autoremove' to remove them.\n",
            "0 upgraded, 0 newly installed, 0 to remove and 43 not upgraded.\n"
          ]
        }
      ],
      "source": [
        "!apt install python3-louis libcairo2-dev pkg-config python3-dev npm"
      ]
    },
    {
      "cell_type": "code",
      "source": [
        "!git clone https://github.com/davidaustinm/prefigure.git"
      ],
      "metadata": {
        "colab": {
          "base_uri": "https://localhost:8080/"
        },
        "id": "-YL01v7_b5Mp",
        "outputId": "e2acb856-20cb-475f-c395-ab0014f1dc8b"
      },
      "execution_count": 2,
      "outputs": [
        {
          "output_type": "stream",
          "name": "stdout",
          "text": [
            "fatal: destination path 'prefigure' already exists and is not an empty directory.\n"
          ]
        }
      ]
    },
    {
      "cell_type": "code",
      "source": [
        "%cd prefigure/js\n",
        "!npm install"
      ],
      "metadata": {
        "colab": {
          "base_uri": "https://localhost:8080/"
        },
        "id": "fEEdX2dxb-Kz",
        "outputId": "eb1e2c46-70bb-4a9c-8067-7cf3b4c166b4"
      },
      "execution_count": 3,
      "outputs": [
        {
          "output_type": "stream",
          "name": "stdout",
          "text": [
            "/content/prefigure/js\n",
            "\u001b[K\u001b[?25h\n",
            "up to date, audited 35 packages in 1s\n",
            "\n",
            "2 packages are looking for funding\n",
            "  run `npm fund` for details\n",
            "\n",
            "found \u001b[32m\u001b[1m0\u001b[22m\u001b[39m vulnerabilities\n"
          ]
        }
      ]
    },
    {
      "cell_type": "code",
      "source": [
        "%cd .."
      ],
      "metadata": {
        "colab": {
          "base_uri": "https://localhost:8080/"
        },
        "id": "aw182BN7dBDk",
        "outputId": "2e930e71-62ad-4e92-c1cc-22233d54327b"
      },
      "execution_count": 4,
      "outputs": [
        {
          "output_type": "stream",
          "name": "stdout",
          "text": [
            "/content/prefigure\n"
          ]
        }
      ]
    },
    {
      "cell_type": "code",
      "source": [
        "!pip install -r requirements.txt"
      ],
      "metadata": {
        "colab": {
          "base_uri": "https://localhost:8080/"
        },
        "id": "7KluHMZUdPMk",
        "outputId": "ae291424-1da7-44b4-cf8a-da053ee1c242"
      },
      "execution_count": 5,
      "outputs": [
        {
          "output_type": "stream",
          "name": "stdout",
          "text": [
            "Requirement already satisfied: lxml==5.2.2 in /usr/local/lib/python3.10/dist-packages (from -r requirements.txt (line 1)) (5.2.2)\n",
            "Requirement already satisfied: networkx==3.1 in /usr/local/lib/python3.10/dist-packages (from -r requirements.txt (line 2)) (3.1)\n",
            "Requirement already satisfied: numpy==1.24.4 in /usr/local/lib/python3.10/dist-packages (from -r requirements.txt (line 3)) (1.24.4)\n",
            "Requirement already satisfied: pycairo==1.26.0 in /usr/local/lib/python3.10/dist-packages (from -r requirements.txt (line 4)) (1.26.0)\n",
            "Requirement already satisfied: scipy==1.10.1 in /usr/local/lib/python3.10/dist-packages (from -r requirements.txt (line 5)) (1.10.1)\n"
          ]
        }
      ]
    },
    {
      "cell_type": "code",
      "source": [
        "%cd prefigure/"
      ],
      "metadata": {
        "colab": {
          "base_uri": "https://localhost:8080/"
        },
        "id": "e7DGta7ddTYp",
        "outputId": "45776c83-d8c4-45dd-e93e-b5343abbbb0e"
      },
      "execution_count": 6,
      "outputs": [
        {
          "output_type": "stream",
          "name": "stdout",
          "text": [
            "/content/prefigure/prefigure\n"
          ]
        }
      ]
    },
    {
      "cell_type": "code",
      "source": [
        "!python parse.py ../samples/derivatives.xml"
      ],
      "metadata": {
        "id": "EiybaNI2dFNC"
      },
      "execution_count": 7,
      "outputs": []
    }
  ]
}