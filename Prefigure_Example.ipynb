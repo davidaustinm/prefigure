{
  "nbformat": 4,
  "nbformat_minor": 0,
  "metadata": {
    "colab": {
      "provenance": [],
      "authorship_tag": "ABX9TyP2pnHG93rDZeA4rQiKfFdn",
      "include_colab_link": true
    },
    "kernelspec": {
      "name": "python3",
      "display_name": "Python 3"
    },
    "language_info": {
      "name": "python"
    }
  },
  "cells": [
    {
      "cell_type": "markdown",
      "metadata": {
        "id": "view-in-github",
        "colab_type": "text"
      },
      "source": [
        "<a href=\"https://colab.research.google.com/github/justinb4003/prefigure-easy/blob/main/Prefigure_Example.ipynb\" target=\"_parent\"><img src=\"https://colab.research.google.com/assets/colab-badge.svg\" alt=\"Open In Colab\"/></a>"
      ]
    },
    {
      "cell_type": "code",
      "execution_count": null,
      "metadata": {
        "id": "X1uJZg7PX8L3"
      },
      "outputs": [],
      "source": [
        "!apt install python3-louis libcairo2-dev pkg-config python3-dev npm"
      ]
    },
    {
      "cell_type": "code",
      "source": [
        "!git clone https://github.com/davidaustinm/prefigure.git"
      ],
      "metadata": {
        "id": "-YL01v7_b5Mp"
      },
      "execution_count": null,
      "outputs": []
    },
    {
      "cell_type": "code",
      "source": [
        "%cd prefigure/js\n",
        "!npm install"
      ],
      "metadata": {
        "id": "fEEdX2dxb-Kz"
      },
      "execution_count": null,
      "outputs": []
    },
    {
      "cell_type": "code",
      "source": [
        "%cd .."
      ],
      "metadata": {
        "id": "aw182BN7dBDk"
      },
      "execution_count": null,
      "outputs": []
    },
    {
      "cell_type": "code",
      "source": [
        "!pip install -r requirements.txt"
      ],
      "metadata": {
        "id": "7KluHMZUdPMk"
      },
      "execution_count": null,
      "outputs": []
    },
    {
      "cell_type": "code",
      "source": [
        "%cd prefigure/"
      ],
      "metadata": {
        "id": "e7DGta7ddTYp"
      },
      "execution_count": null,
      "outputs": []
    },
    {
      "cell_type": "code",
      "source": [
        "!python parse.py ../samples/derivatives.xml"
      ],
      "metadata": {
        "id": "EiybaNI2dFNC"
      },
      "execution_count": null,
      "outputs": []
    }
  ]
}